{
 "cells": [
  {
   "cell_type": "markdown",
   "id": "5a6839a9",
   "metadata": {},
   "source": [
    "# 1. Setup Mario"
   ]
  },
  {
   "cell_type": "code",
   "execution_count": 1,
   "id": "bb6c98ef",
   "metadata": {
    "scrolled": true
   },
   "outputs": [
    {
     "name": "stdout",
     "output_type": "stream",
     "text": [
      "Defaulting to user installation because normal site-packages is not writeable\n",
      "Requirement already satisfied: gym_super_mario_bros==7.3.0 in c:\\users\\yacoo\\appdata\\roaming\\python\\python310\\site-packages (7.3.0)\n",
      "Requirement already satisfied: nes_py in c:\\users\\yacoo\\appdata\\roaming\\python\\python310\\site-packages (8.2.1)\n",
      "Requirement already satisfied: tqdm>=4.48.2 in c:\\programdata\\anaconda3\\lib\\site-packages (from nes_py) (4.64.1)\n",
      "Requirement already satisfied: pyglet<=1.5.21,>=1.4.0 in c:\\users\\yacoo\\appdata\\roaming\\python\\python310\\site-packages (from nes_py) (1.5.21)\n",
      "Requirement already satisfied: numpy>=1.18.5 in c:\\programdata\\anaconda3\\lib\\site-packages (from nes_py) (1.23.5)\n",
      "Requirement already satisfied: gym>=0.17.2 in c:\\users\\yacoo\\appdata\\roaming\\python\\python310\\site-packages (from nes_py) (0.21.0)\n",
      "Requirement already satisfied: cloudpickle>=1.2.0 in c:\\programdata\\anaconda3\\lib\\site-packages (from gym>=0.17.2->nes_py) (2.0.0)\n",
      "Requirement already satisfied: colorama in c:\\programdata\\anaconda3\\lib\\site-packages (from tqdm>=4.48.2->nes_py) (0.4.6)\n"
     ]
    },
    {
     "name": "stderr",
     "output_type": "stream",
     "text": [
      "WARNING: Ignoring invalid distribution -rotobuf (c:\\users\\yacoo\\appdata\\roaming\\python\\python310\\site-packages)\n",
      "WARNING: Ignoring invalid distribution -rotobuf (c:\\users\\yacoo\\appdata\\roaming\\python\\python310\\site-packages)\n",
      "WARNING: Ignoring invalid distribution -rotobuf (c:\\users\\yacoo\\appdata\\roaming\\python\\python310\\site-packages)\n",
      "WARNING: Ignoring invalid distribution -rotobuf (c:\\users\\yacoo\\appdata\\roaming\\python\\python310\\site-packages)\n",
      "WARNING: Ignoring invalid distribution -rotobuf (c:\\users\\yacoo\\appdata\\roaming\\python\\python310\\site-packages)\n",
      "WARNING: Ignoring invalid distribution -rotobuf (c:\\users\\yacoo\\appdata\\roaming\\python\\python310\\site-packages)\n"
     ]
    }
   ],
   "source": [
    "!pip install gym_super_mario_bros==7.3.0 nes_py"
   ]
  },
  {
   "cell_type": "code",
   "execution_count": 2,
   "id": "6b61af67",
   "metadata": {},
   "outputs": [],
   "source": [
    "# Game\n",
    "import gym_super_mario_bros\n",
    "# Joypad\n",
    "from nes_py.wrappers import JoypadSpace\n",
    "# Controls\n",
    "from gym_super_mario_bros.actions import SIMPLE_MOVEMENT"
   ]
  },
  {
   "cell_type": "code",
   "execution_count": 3,
   "id": "ff0bf1df",
   "metadata": {},
   "outputs": [
    {
     "data": {
      "text/plain": [
       "[['NOOP'],\n",
       " ['right'],\n",
       " ['right', 'A'],\n",
       " ['right', 'B'],\n",
       " ['right', 'A', 'B'],\n",
       " ['A'],\n",
       " ['left']]"
      ]
     },
     "execution_count": 3,
     "metadata": {},
     "output_type": "execute_result"
    }
   ],
   "source": [
    "SIMPLE_MOVEMENT"
   ]
  },
  {
   "cell_type": "code",
   "execution_count": 4,
   "id": "6898cfd4",
   "metadata": {},
   "outputs": [],
   "source": [
    "# Setup game\n",
    "env = gym_super_mario_bros.make('SuperMarioBros-v0')\n",
    "# Simplify movement variations (action_space)\n",
    "env = JoypadSpace(env, SIMPLE_MOVEMENT)"
   ]
  },
  {
   "cell_type": "code",
   "execution_count": 5,
   "id": "ae91cee7",
   "metadata": {},
   "outputs": [
    {
     "name": "stderr",
     "output_type": "stream",
     "text": [
      "C:\\Users\\yacoo\\AppData\\Roaming\\Python\\Python310\\site-packages\\pyglet\\image\\codecs\\wic.py:289: UserWarning: [WinError -2147417850] Cannot change thread mode after it is set\n",
      "  warnings.warn(str(err))\n"
     ]
    }
   ],
   "source": [
    "# Flag\n",
    "done = True\n",
    "\n",
    "# Loop through each frame\n",
    "for step in range(100):\n",
    "    if done:\n",
    "        # Start the game\n",
    "        env.reset()\n",
    "    # Do random actions\n",
    "    state, reward, done, info = env.step(env.action_space.sample())\n",
    "    # Show the game on the screen\n",
    "    env.render()\n",
    "env.close()"
   ]
  },
  {
   "cell_type": "markdown",
   "id": "c596198f",
   "metadata": {},
   "source": [
    "# 2. Preprocess Environment"
   ]
  },
  {
   "cell_type": "code",
   "execution_count": 6,
   "id": "39b15e91",
   "metadata": {},
   "outputs": [
    {
     "name": "stdout",
     "output_type": "stream",
     "text": [
      "Defaulting to user installation because normal site-packages is not writeable\n",
      "Requirement already satisfied: torch in c:\\users\\yacoo\\appdata\\roaming\\python\\python310\\site-packages (2.0.1)\n",
      "Requirement already satisfied: torchvision in c:\\users\\yacoo\\appdata\\roaming\\python\\python310\\site-packages (0.15.2)\n",
      "Requirement already satisfied: torchaudio in c:\\users\\yacoo\\appdata\\roaming\\python\\python310\\site-packages (2.0.2)\n",
      "Requirement already satisfied: networkx in c:\\programdata\\anaconda3\\lib\\site-packages (from torch) (2.8.4)\n",
      "Requirement already satisfied: filelock in c:\\programdata\\anaconda3\\lib\\site-packages (from torch) (3.9.0)\n",
      "Requirement already satisfied: jinja2 in c:\\programdata\\anaconda3\\lib\\site-packages (from torch) (3.1.2)\n",
      "Requirement already satisfied: typing-extensions in c:\\programdata\\anaconda3\\lib\\site-packages (from torch) (4.4.0)\n",
      "Requirement already satisfied: sympy in c:\\programdata\\anaconda3\\lib\\site-packages (from torch) (1.11.1)\n",
      "Requirement already satisfied: numpy in c:\\programdata\\anaconda3\\lib\\site-packages (from torchvision) (1.23.5)\n",
      "Requirement already satisfied: pillow!=8.3.*,>=5.3.0 in c:\\programdata\\anaconda3\\lib\\site-packages (from torchvision) (9.4.0)\n",
      "Requirement already satisfied: requests in c:\\programdata\\anaconda3\\lib\\site-packages (from torchvision) (2.28.1)\n",
      "Requirement already satisfied: MarkupSafe>=2.0 in c:\\programdata\\anaconda3\\lib\\site-packages (from jinja2->torch) (2.1.1)\n",
      "Requirement already satisfied: idna<4,>=2.5 in c:\\programdata\\anaconda3\\lib\\site-packages (from requests->torchvision) (3.4)\n",
      "Requirement already satisfied: urllib3<1.27,>=1.21.1 in c:\\programdata\\anaconda3\\lib\\site-packages (from requests->torchvision) (1.26.14)\n",
      "Requirement already satisfied: certifi>=2017.4.17 in c:\\programdata\\anaconda3\\lib\\site-packages (from requests->torchvision) (2022.12.7)\n",
      "Requirement already satisfied: charset-normalizer<3,>=2 in c:\\programdata\\anaconda3\\lib\\site-packages (from requests->torchvision) (2.0.4)\n",
      "Requirement already satisfied: mpmath>=0.19 in c:\\programdata\\anaconda3\\lib\\site-packages (from sympy->torch) (1.2.1)\n"
     ]
    },
    {
     "name": "stderr",
     "output_type": "stream",
     "text": [
      "WARNING: Ignoring invalid distribution -rotobuf (c:\\users\\yacoo\\appdata\\roaming\\python\\python310\\site-packages)\n",
      "WARNING: Ignoring invalid distribution -rotobuf (c:\\users\\yacoo\\appdata\\roaming\\python\\python310\\site-packages)\n",
      "WARNING: Ignoring invalid distribution -rotobuf (c:\\users\\yacoo\\appdata\\roaming\\python\\python310\\site-packages)\n",
      "WARNING: Ignoring invalid distribution -rotobuf (c:\\users\\yacoo\\appdata\\roaming\\python\\python310\\site-packages)\n",
      "WARNING: Ignoring invalid distribution -rotobuf (c:\\users\\yacoo\\appdata\\roaming\\python\\python310\\site-packages)\n",
      "WARNING: Ignoring invalid distribution -rotobuf (c:\\users\\yacoo\\appdata\\roaming\\python\\python310\\site-packages)\n"
     ]
    },
    {
     "name": "stdout",
     "output_type": "stream",
     "text": [
      "Defaulting to user installation because normal site-packages is not writeable\n",
      "Requirement already satisfied: stable-baselines3[extra] in c:\\users\\yacoo\\appdata\\roaming\\python\\python310\\site-packages (1.8.0)\n",
      "Requirement already satisfied: cloudpickle in c:\\programdata\\anaconda3\\lib\\site-packages (from stable-baselines3[extra]) (2.0.0)\n",
      "Requirement already satisfied: torch>=1.11 in c:\\users\\yacoo\\appdata\\roaming\\python\\python310\\site-packages (from stable-baselines3[extra]) (2.0.1)\n",
      "Requirement already satisfied: pandas in c:\\programdata\\anaconda3\\lib\\site-packages (from stable-baselines3[extra]) (1.5.3)\n",
      "Requirement already satisfied: matplotlib in c:\\programdata\\anaconda3\\lib\\site-packages (from stable-baselines3[extra]) (3.7.0)\n",
      "Requirement already satisfied: gym==0.21 in c:\\users\\yacoo\\appdata\\roaming\\python\\python310\\site-packages (from stable-baselines3[extra]) (0.21.0)\n",
      "Requirement already satisfied: importlib-metadata~=4.13 in c:\\users\\yacoo\\appdata\\roaming\\python\\python310\\site-packages (from stable-baselines3[extra]) (4.13.0)\n",
      "Requirement already satisfied: numpy in c:\\programdata\\anaconda3\\lib\\site-packages (from stable-baselines3[extra]) (1.23.5)\n",
      "Requirement already satisfied: autorom[accept-rom-license]~=0.6.0 in c:\\users\\yacoo\\appdata\\roaming\\python\\python310\\site-packages (from stable-baselines3[extra]) (0.6.1)\n",
      "Requirement already satisfied: rich in c:\\users\\yacoo\\appdata\\roaming\\python\\python310\\site-packages (from stable-baselines3[extra]) (13.3.5)\n",
      "Requirement already satisfied: opencv-python in c:\\users\\yacoo\\appdata\\roaming\\python\\python310\\site-packages (from stable-baselines3[extra]) (4.7.0.72)\n",
      "Requirement already satisfied: pillow in c:\\programdata\\anaconda3\\lib\\site-packages (from stable-baselines3[extra]) (9.4.0)\n",
      "Requirement already satisfied: psutil in c:\\programdata\\anaconda3\\lib\\site-packages (from stable-baselines3[extra]) (5.9.0)\n",
      "Requirement already satisfied: tensorboard>=2.9.1 in c:\\users\\yacoo\\appdata\\roaming\\python\\python310\\site-packages (from stable-baselines3[extra]) (2.12.3)\n",
      "Requirement already satisfied: tqdm in c:\\programdata\\anaconda3\\lib\\site-packages (from stable-baselines3[extra]) (4.64.1)\n",
      "Requirement already satisfied: ale-py==0.7.4 in c:\\users\\yacoo\\appdata\\roaming\\python\\python310\\site-packages (from stable-baselines3[extra]) (0.7.4)\n",
      "Requirement already satisfied: importlib-resources in c:\\users\\yacoo\\appdata\\roaming\\python\\python310\\site-packages (from ale-py==0.7.4->stable-baselines3[extra]) (5.12.0)\n",
      "Requirement already satisfied: click in c:\\programdata\\anaconda3\\lib\\site-packages (from autorom[accept-rom-license]~=0.6.0->stable-baselines3[extra]) (8.0.4)\n",
      "Requirement already satisfied: requests in c:\\programdata\\anaconda3\\lib\\site-packages (from autorom[accept-rom-license]~=0.6.0->stable-baselines3[extra]) (2.28.1)\n",
      "Requirement already satisfied: AutoROM.accept-rom-license in c:\\users\\yacoo\\appdata\\roaming\\python\\python310\\site-packages (from autorom[accept-rom-license]~=0.6.0->stable-baselines3[extra]) (0.6.1)\n",
      "Requirement already satisfied: zipp>=0.5 in c:\\programdata\\anaconda3\\lib\\site-packages (from importlib-metadata~=4.13->stable-baselines3[extra]) (3.11.0)\n",
      "Requirement already satisfied: google-auth<3,>=1.6.3 in c:\\users\\yacoo\\appdata\\roaming\\python\\python310\\site-packages (from tensorboard>=2.9.1->stable-baselines3[extra]) (2.18.0)\n",
      "Requirement already satisfied: tensorboard-data-server<0.8.0,>=0.7.0 in c:\\users\\yacoo\\appdata\\roaming\\python\\python310\\site-packages (from tensorboard>=2.9.1->stable-baselines3[extra]) (0.7.0)\n",
      "Requirement already satisfied: grpcio>=1.48.2 in c:\\users\\yacoo\\appdata\\roaming\\python\\python310\\site-packages (from tensorboard>=2.9.1->stable-baselines3[extra]) (1.54.2)\n",
      "Requirement already satisfied: wheel>=0.26 in c:\\programdata\\anaconda3\\lib\\site-packages (from tensorboard>=2.9.1->stable-baselines3[extra]) (0.38.4)\n",
      "Requirement already satisfied: protobuf>=3.19.6 in c:\\users\\yacoo\\appdata\\roaming\\python\\python310\\site-packages (from tensorboard>=2.9.1->stable-baselines3[extra]) (3.20.3)\n",
      "Requirement already satisfied: werkzeug>=1.0.1 in c:\\programdata\\anaconda3\\lib\\site-packages (from tensorboard>=2.9.1->stable-baselines3[extra]) (2.2.2)\n",
      "Requirement already satisfied: google-auth-oauthlib<1.1,>=0.5 in c:\\users\\yacoo\\appdata\\roaming\\python\\python310\\site-packages (from tensorboard>=2.9.1->stable-baselines3[extra]) (1.0.0)\n",
      "Requirement already satisfied: setuptools>=41.0.0 in c:\\programdata\\anaconda3\\lib\\site-packages (from tensorboard>=2.9.1->stable-baselines3[extra]) (65.6.3)\n",
      "Requirement already satisfied: markdown>=2.6.8 in c:\\programdata\\anaconda3\\lib\\site-packages (from tensorboard>=2.9.1->stable-baselines3[extra]) (3.4.1)\n",
      "Requirement already satisfied: absl-py>=0.4 in c:\\users\\yacoo\\appdata\\roaming\\python\\python310\\site-packages (from tensorboard>=2.9.1->stable-baselines3[extra]) (1.4.0)\n",
      "Requirement already satisfied: networkx in c:\\programdata\\anaconda3\\lib\\site-packages (from torch>=1.11->stable-baselines3[extra]) (2.8.4)\n",
      "Requirement already satisfied: typing-extensions in c:\\programdata\\anaconda3\\lib\\site-packages (from torch>=1.11->stable-baselines3[extra]) (4.4.0)\n",
      "Requirement already satisfied: sympy in c:\\programdata\\anaconda3\\lib\\site-packages (from torch>=1.11->stable-baselines3[extra]) (1.11.1)\n",
      "Requirement already satisfied: filelock in c:\\programdata\\anaconda3\\lib\\site-packages (from torch>=1.11->stable-baselines3[extra]) (3.9.0)\n",
      "Requirement already satisfied: jinja2 in c:\\programdata\\anaconda3\\lib\\site-packages (from torch>=1.11->stable-baselines3[extra]) (3.1.2)\n",
      "Requirement already satisfied: python-dateutil>=2.7 in c:\\programdata\\anaconda3\\lib\\site-packages (from matplotlib->stable-baselines3[extra]) (2.8.2)\n",
      "Requirement already satisfied: fonttools>=4.22.0 in c:\\programdata\\anaconda3\\lib\\site-packages (from matplotlib->stable-baselines3[extra]) (4.25.0)\n",
      "Requirement already satisfied: pyparsing>=2.3.1 in c:\\programdata\\anaconda3\\lib\\site-packages (from matplotlib->stable-baselines3[extra]) (3.0.9)\n",
      "Requirement already satisfied: contourpy>=1.0.1 in c:\\programdata\\anaconda3\\lib\\site-packages (from matplotlib->stable-baselines3[extra]) (1.0.5)\n",
      "Requirement already satisfied: kiwisolver>=1.0.1 in c:\\programdata\\anaconda3\\lib\\site-packages (from matplotlib->stable-baselines3[extra]) (1.4.4)\n",
      "Requirement already satisfied: cycler>=0.10 in c:\\programdata\\anaconda3\\lib\\site-packages (from matplotlib->stable-baselines3[extra]) (0.11.0)\n",
      "Requirement already satisfied: packaging>=20.0 in c:\\programdata\\anaconda3\\lib\\site-packages (from matplotlib->stable-baselines3[extra]) (22.0)\n",
      "Requirement already satisfied: pytz>=2020.1 in c:\\programdata\\anaconda3\\lib\\site-packages (from pandas->stable-baselines3[extra]) (2022.7)\n",
      "Requirement already satisfied: markdown-it-py<3.0.0,>=2.2.0 in c:\\users\\yacoo\\appdata\\roaming\\python\\python310\\site-packages (from rich->stable-baselines3[extra]) (2.2.0)\n",
      "Requirement already satisfied: pygments<3.0.0,>=2.13.0 in c:\\users\\yacoo\\appdata\\roaming\\python\\python310\\site-packages (from rich->stable-baselines3[extra]) (2.15.1)\n",
      "Requirement already satisfied: colorama in c:\\programdata\\anaconda3\\lib\\site-packages (from tqdm->stable-baselines3[extra]) (0.4.6)\n",
      "Requirement already satisfied: urllib3<2.0 in c:\\programdata\\anaconda3\\lib\\site-packages (from google-auth<3,>=1.6.3->tensorboard>=2.9.1->stable-baselines3[extra]) (1.26.14)\n",
      "Requirement already satisfied: rsa<5,>=3.1.4 in c:\\users\\yacoo\\appdata\\roaming\\python\\python310\\site-packages (from google-auth<3,>=1.6.3->tensorboard>=2.9.1->stable-baselines3[extra]) (4.9)\n",
      "Requirement already satisfied: cachetools<6.0,>=2.0.0 in c:\\users\\yacoo\\appdata\\roaming\\python\\python310\\site-packages (from google-auth<3,>=1.6.3->tensorboard>=2.9.1->stable-baselines3[extra]) (5.3.0)\n",
      "Requirement already satisfied: six>=1.9.0 in c:\\programdata\\anaconda3\\lib\\site-packages (from google-auth<3,>=1.6.3->tensorboard>=2.9.1->stable-baselines3[extra]) (1.16.0)\n",
      "Requirement already satisfied: pyasn1-modules>=0.2.1 in c:\\programdata\\anaconda3\\lib\\site-packages (from google-auth<3,>=1.6.3->tensorboard>=2.9.1->stable-baselines3[extra]) (0.2.8)\n",
      "Requirement already satisfied: requests-oauthlib>=0.7.0 in c:\\users\\yacoo\\appdata\\roaming\\python\\python310\\site-packages (from google-auth-oauthlib<1.1,>=0.5->tensorboard>=2.9.1->stable-baselines3[extra]) (1.3.1)\n",
      "Requirement already satisfied: mdurl~=0.1 in c:\\users\\yacoo\\appdata\\roaming\\python\\python310\\site-packages (from markdown-it-py<3.0.0,>=2.2.0->rich->stable-baselines3[extra]) (0.1.2)\n",
      "Requirement already satisfied: certifi>=2017.4.17 in c:\\programdata\\anaconda3\\lib\\site-packages (from requests->autorom[accept-rom-license]~=0.6.0->stable-baselines3[extra]) (2022.12.7)\n",
      "Requirement already satisfied: idna<4,>=2.5 in c:\\programdata\\anaconda3\\lib\\site-packages (from requests->autorom[accept-rom-license]~=0.6.0->stable-baselines3[extra]) (3.4)\n",
      "Requirement already satisfied: charset-normalizer<3,>=2 in c:\\programdata\\anaconda3\\lib\\site-packages (from requests->autorom[accept-rom-license]~=0.6.0->stable-baselines3[extra]) (2.0.4)\n",
      "Requirement already satisfied: MarkupSafe>=2.1.1 in c:\\programdata\\anaconda3\\lib\\site-packages (from werkzeug>=1.0.1->tensorboard>=2.9.1->stable-baselines3[extra]) (2.1.1)\n",
      "Requirement already satisfied: mpmath>=0.19 in c:\\programdata\\anaconda3\\lib\\site-packages (from sympy->torch>=1.11->stable-baselines3[extra]) (1.2.1)\n",
      "Requirement already satisfied: pyasn1<0.5.0,>=0.4.6 in c:\\programdata\\anaconda3\\lib\\site-packages (from pyasn1-modules>=0.2.1->google-auth<3,>=1.6.3->tensorboard>=2.9.1->stable-baselines3[extra]) (0.4.8)\n",
      "Requirement already satisfied: oauthlib>=3.0.0 in c:\\users\\yacoo\\appdata\\roaming\\python\\python310\\site-packages (from requests-oauthlib>=0.7.0->google-auth-oauthlib<1.1,>=0.5->tensorboard>=2.9.1->stable-baselines3[extra]) (3.2.2)\n"
     ]
    },
    {
     "name": "stderr",
     "output_type": "stream",
     "text": [
      "WARNING: Ignoring invalid distribution -rotobuf (c:\\users\\yacoo\\appdata\\roaming\\python\\python310\\site-packages)\n",
      "WARNING: Ignoring invalid distribution -rotobuf (c:\\users\\yacoo\\appdata\\roaming\\python\\python310\\site-packages)\n",
      "WARNING: Ignoring invalid distribution -rotobuf (c:\\users\\yacoo\\appdata\\roaming\\python\\python310\\site-packages)\n",
      "WARNING: Ignoring invalid distribution -rotobuf (c:\\users\\yacoo\\appdata\\roaming\\python\\python310\\site-packages)\n",
      "WARNING: Ignoring invalid distribution -rotobuf (c:\\users\\yacoo\\appdata\\roaming\\python\\python310\\site-packages)\n",
      "WARNING: Ignoring invalid distribution -rotobuf (c:\\users\\yacoo\\appdata\\roaming\\python\\python310\\site-packages)\n"
     ]
    }
   ],
   "source": [
    "!pip install torch torchvision torchaudio\n",
    "# PPO for RL\n",
    "!pip install stable-baselines3[extra]"
   ]
  },
  {
   "cell_type": "code",
   "execution_count": 7,
   "id": "0ac05264",
   "metadata": {},
   "outputs": [],
   "source": [
    "# Frame Stacker Wrapper and Grayscaling Wrapper\n",
    "# Framestack: Capture last couple of frames while Mario is playing\n",
    "# GrayscaleObservation: Shave our data since it does not deal with no coloring, making our model faster\n",
    "from gym.wrappers import GrayScaleObservation\n",
    "# Vectorization Wrappers\n",
    "from stable_baselines3.common.vec_env import VecFrameStack, DummyVecEnv\n",
    "# Plot the impact of framestacking\n",
    "from matplotlib import pyplot as plt"
   ]
  },
  {
   "cell_type": "code",
   "execution_count": 8,
   "id": "32925ce2",
   "metadata": {},
   "outputs": [],
   "source": [
    "# Create the base env \n",
    "env = gym_super_mario_bros.make('SuperMarioBros-v0')\n",
    "# Simplify movement controls\n",
    "env = JoypadSpace(env, SIMPLE_MOVEMENT)\n",
    "# Grayscale the env\n",
    "env = GrayScaleObservation(env, keep_dim=True)\n",
    "# Wrap inside the dummy env\n",
    "env = DummyVecEnv([lambda: env])\n",
    "# Stack the frames\n",
    "# Find how many frames to take in as you desire that works best\n",
    "env = VecFrameStack(env, 4, channels_order='last')"
   ]
  },
  {
   "cell_type": "code",
   "execution_count": 9,
   "id": "2f387b2c",
   "metadata": {},
   "outputs": [],
   "source": [
    "# state = env.reset()\n",
    "# plt.imshow(state)"
   ]
  },
  {
   "cell_type": "code",
   "execution_count": 23,
   "id": "4f7e2119",
   "metadata": {},
   "outputs": [
    {
     "data": {
      "text/plain": [
       "array([[[[  0,   0,   0, 140],\n",
       "         [  0,   0,   0, 140],\n",
       "         [  0,   0,   0, 140],\n",
       "         ...,\n",
       "         [  0,   0,   0, 140],\n",
       "         [  0,   0,   0, 140],\n",
       "         [  0,   0,   0, 140]],\n",
       "\n",
       "        [[  0,   0,   0, 140],\n",
       "         [  0,   0,   0, 140],\n",
       "         [  0,   0,   0, 140],\n",
       "         ...,\n",
       "         [  0,   0,   0, 140],\n",
       "         [  0,   0,   0, 140],\n",
       "         [  0,   0,   0, 140]],\n",
       "\n",
       "        [[  0,   0,   0, 140],\n",
       "         [  0,   0,   0, 140],\n",
       "         [  0,   0,   0, 140],\n",
       "         ...,\n",
       "         [  0,   0,   0, 140],\n",
       "         [  0,   0,   0, 140],\n",
       "         [  0,   0,   0, 140]],\n",
       "\n",
       "        ...,\n",
       "\n",
       "        [[  0,   0,   0, 214],\n",
       "         [  0,   0,   0, 124],\n",
       "         [  0,   0,   0, 124],\n",
       "         ...,\n",
       "         [  0,   0,   0, 124],\n",
       "         [  0,   0,   0, 124],\n",
       "         [  0,   0,   0,   0]],\n",
       "\n",
       "        [[  0,   0,   0, 214],\n",
       "         [  0,   0,   0, 124],\n",
       "         [  0,   0,   0, 124],\n",
       "         ...,\n",
       "         [  0,   0,   0, 124],\n",
       "         [  0,   0,   0,   0],\n",
       "         [  0,   0,   0,   0]],\n",
       "\n",
       "        [[  0,   0,   0, 124],\n",
       "         [  0,   0,   0,   0],\n",
       "         [  0,   0,   0,   0],\n",
       "         ...,\n",
       "         [  0,   0,   0,   0],\n",
       "         [  0,   0,   0,   0],\n",
       "         [  0,   0,   0, 124]]]], dtype=uint8)"
      ]
     },
     "execution_count": 23,
     "metadata": {},
     "output_type": "execute_result"
    }
   ],
   "source": [
    "env.reset()"
   ]
  },
  {
   "cell_type": "code",
   "execution_count": 24,
   "id": "d89c415a",
   "metadata": {},
   "outputs": [],
   "source": [
    "state, reward, done, info = env.step([5])"
   ]
  },
  {
   "cell_type": "code",
   "execution_count": 12,
   "id": "87a5cca3",
   "metadata": {},
   "outputs": [],
   "source": [
    "#plt.figure(figsize=(20,16))\n",
    "#for idx in range(state.shape[3]):\n",
    " #   plt.subplot(1,4,idx+1)\n",
    " #   plt.imshow(state[0][:,:,idx])\n",
    "#plt.show()"
   ]
  },
  {
   "cell_type": "markdown",
   "id": "984e2793",
   "metadata": {},
   "source": [
    "# 3. Train the RL Model"
   ]
  },
  {
   "cell_type": "code",
   "execution_count": 9,
   "id": "4a16cb18",
   "metadata": {},
   "outputs": [],
   "source": [
    "# AREA: Agent, Reward, Environment, Action\n",
    "# PPO: Proximal Policy Optimization\n",
    "# OS for file path management\n",
    "import os\n",
    "# PPO classifier\n",
    "from stable_baselines3 import PPO\n",
    "# Base Callback for saving models\n",
    "from stable_baselines3.common.callbacks import BaseCallback"
   ]
  },
  {
   "cell_type": "code",
   "execution_count": 10,
   "id": "b38e8140",
   "metadata": {},
   "outputs": [],
   "source": [
    "# Save our model every x number of steps\n",
    "class TrainAndLoggingCallback(BaseCallback):\n",
    "    \n",
    "    def __init__(self, check_freq, save_path, verbose=1):\n",
    "        super(TrainAndLoggingCallback, self).__init__(verbose)\n",
    "        self.check_freq = check_freq\n",
    "        self.save_path = save_path\n",
    "        \n",
    "    def _init_callback(self):\n",
    "        if self.save_path is not None:\n",
    "            os.makedirs(self.save_path, exist_ok=True)\n",
    "            \n",
    "    def _on_step(self):\n",
    "        if self.n_calls % self.check_freq == 0:\n",
    "            model_path = os.path.join(self.save_path, 'best_model_{}'.format(self.n_calls))\n",
    "            self.model.save(model_path)\n",
    "            \n",
    "        return True"
   ]
  },
  {
   "cell_type": "code",
   "execution_count": 11,
   "id": "62ecbf8a",
   "metadata": {},
   "outputs": [],
   "source": [
    "CHECKPOINT_DIR = './train/'\n",
    "LOG_DIR = './logs/'"
   ]
  },
  {
   "cell_type": "code",
   "execution_count": 12,
   "id": "6900d2bb",
   "metadata": {},
   "outputs": [],
   "source": [
    "callback = TrainAndLoggingCallback(check_freq=1000000, save_path=CHECKPOINT_DIR)"
   ]
  },
  {
   "cell_type": "code",
   "execution_count": 20,
   "id": "c41b71bd",
   "metadata": {},
   "outputs": [
    {
     "name": "stdout",
     "output_type": "stream",
     "text": [
      "Using cpu device\n",
      "Wrapping the env in a VecTransposeImage.\n"
     ]
    }
   ],
   "source": [
    "# RL requires a policy network (such as the CNN that is the brain of the AI)\n",
    "# CnnPolicy is fast at processing images, which fits our use case\n",
    "model = PPO('CnnPolicy', env, verbose=1, tensorboard_log=LOG_DIR, learning_rate=0.000001, n_steps=512)"
   ]
  },
  {
   "cell_type": "code",
   "execution_count": 18,
   "id": "b6ad3be6",
   "metadata": {},
   "outputs": [],
   "source": [
    "# Train the model\n",
    "# Every single game gets a million frames\n",
    "#model.learn(total_timesteps=4000000, callback=callback)"
   ]
  },
  {
   "cell_type": "code",
   "execution_count": 19,
   "id": "ea2837bc",
   "metadata": {},
   "outputs": [],
   "source": [
    "# No callback: model.save('name_of_file')\n",
    "# To view the logs on tensorboard\n",
    "# Activate the env on this dir and go into log dir (go into most recent ppo model)\n",
    "#tensorboard --logdir=."
   ]
  },
  {
   "cell_type": "markdown",
   "id": "43d86367",
   "metadata": {},
   "source": [
    "# 4. Test the Model"
   ]
  },
  {
   "cell_type": "code",
   "execution_count": 25,
   "id": "7479133b",
   "metadata": {},
   "outputs": [
    {
     "name": "stdout",
     "output_type": "stream",
     "text": [
      "Wrapping the env in a VecTransposeImage.\n"
     ]
    }
   ],
   "source": [
    "# Load the model\n",
    "model = PPO.load('./train/best_model_1000000', env)"
   ]
  },
  {
   "cell_type": "code",
   "execution_count": null,
   "id": "1f58dc66",
   "metadata": {},
   "outputs": [
    {
     "name": "stdout",
     "output_type": "stream",
     "text": [
      "Logging to ./logs/PPO_12\n",
      "----------------------------\n",
      "| time/              |     |\n",
      "|    fps             | 94  |\n",
      "|    iterations      | 1   |\n",
      "|    time_elapsed    | 5   |\n",
      "|    total_timesteps | 512 |\n",
      "----------------------------\n",
      "------------------------------------------\n",
      "| time/                   |              |\n",
      "|    fps                  | 14           |\n",
      "|    iterations           | 2            |\n",
      "|    time_elapsed         | 69           |\n",
      "|    total_timesteps      | 1024         |\n",
      "| train/                  |              |\n",
      "|    approx_kl            | 0.0006724793 |\n",
      "|    clip_fraction        | 0            |\n",
      "|    clip_range           | 0.2          |\n",
      "|    entropy_loss         | -0.263       |\n",
      "|    explained_variance   | 0.907        |\n",
      "|    learning_rate        | 1e-06        |\n",
      "|    loss                 | 65.3         |\n",
      "|    n_updates            | 19540        |\n",
      "|    policy_gradient_loss | -0.000268    |\n",
      "|    value_loss           | 157          |\n",
      "------------------------------------------\n",
      "------------------------------------------\n",
      "| time/                   |              |\n",
      "|    fps                  | 11           |\n",
      "|    iterations           | 3            |\n",
      "|    time_elapsed         | 132          |\n",
      "|    total_timesteps      | 1536         |\n",
      "| train/                  |              |\n",
      "|    approx_kl            | 7.292803e-05 |\n",
      "|    clip_fraction        | 0            |\n",
      "|    clip_range           | 0.2          |\n",
      "|    entropy_loss         | -0.246       |\n",
      "|    explained_variance   | 0.677        |\n",
      "|    learning_rate        | 1e-06        |\n",
      "|    loss                 | 224          |\n",
      "|    n_updates            | 19550        |\n",
      "|    policy_gradient_loss | -0.000133    |\n",
      "|    value_loss           | 489          |\n",
      "------------------------------------------\n",
      "------------------------------------------\n",
      "| time/                   |              |\n",
      "|    fps                  | 10           |\n",
      "|    iterations           | 4            |\n",
      "|    time_elapsed         | 198          |\n",
      "|    total_timesteps      | 2048         |\n",
      "| train/                  |              |\n",
      "|    approx_kl            | 0.0005923429 |\n",
      "|    clip_fraction        | 0.00391      |\n",
      "|    clip_range           | 0.2          |\n",
      "|    entropy_loss         | -0.265       |\n",
      "|    explained_variance   | 0.868        |\n",
      "|    learning_rate        | 1e-06        |\n",
      "|    loss                 | 159          |\n",
      "|    n_updates            | 19560        |\n",
      "|    policy_gradient_loss | -0.00142     |\n",
      "|    value_loss           | 490          |\n",
      "------------------------------------------\n",
      "-------------------------------------------\n",
      "| time/                   |               |\n",
      "|    fps                  | 9             |\n",
      "|    iterations           | 5             |\n",
      "|    time_elapsed         | 264           |\n",
      "|    total_timesteps      | 2560          |\n",
      "| train/                  |               |\n",
      "|    approx_kl            | 0.00033947802 |\n",
      "|    clip_fraction        | 0             |\n",
      "|    clip_range           | 0.2           |\n",
      "|    entropy_loss         | -0.254        |\n",
      "|    explained_variance   | 0.655         |\n",
      "|    learning_rate        | 1e-06         |\n",
      "|    loss                 | 491           |\n",
      "|    n_updates            | 19570         |\n",
      "|    policy_gradient_loss | -0.00063      |\n",
      "|    value_loss           | 730           |\n",
      "-------------------------------------------\n",
      "------------------------------------------\n",
      "| time/                   |              |\n",
      "|    fps                  | 9            |\n",
      "|    iterations           | 6            |\n",
      "|    time_elapsed         | 328          |\n",
      "|    total_timesteps      | 3072         |\n",
      "| train/                  |              |\n",
      "|    approx_kl            | 0.0010658655 |\n",
      "|    clip_fraction        | 0.000586     |\n",
      "|    clip_range           | 0.2          |\n",
      "|    entropy_loss         | -0.237       |\n",
      "|    explained_variance   | 0.503        |\n",
      "|    learning_rate        | 1e-06        |\n",
      "|    loss                 | 186          |\n",
      "|    n_updates            | 19580        |\n",
      "|    policy_gradient_loss | -0.000522    |\n",
      "|    value_loss           | 644          |\n",
      "------------------------------------------\n",
      "------------------------------------------\n",
      "| time/                   |              |\n",
      "|    fps                  | 9            |\n",
      "|    iterations           | 7            |\n",
      "|    time_elapsed         | 397          |\n",
      "|    total_timesteps      | 3584         |\n",
      "| train/                  |              |\n",
      "|    approx_kl            | 0.0006967478 |\n",
      "|    clip_fraction        | 0.000195     |\n",
      "|    clip_range           | 0.2          |\n",
      "|    entropy_loss         | -0.313       |\n",
      "|    explained_variance   | 0.8          |\n",
      "|    learning_rate        | 1e-06        |\n",
      "|    loss                 | 149          |\n",
      "|    n_updates            | 19590        |\n",
      "|    policy_gradient_loss | -0.000974    |\n",
      "|    value_loss           | 293          |\n",
      "------------------------------------------\n",
      "------------------------------------------\n",
      "| time/                   |              |\n",
      "|    fps                  | 8            |\n",
      "|    iterations           | 8            |\n",
      "|    time_elapsed         | 462          |\n",
      "|    total_timesteps      | 4096         |\n",
      "| train/                  |              |\n",
      "|    approx_kl            | 0.0018329791 |\n",
      "|    clip_fraction        | 0.026        |\n",
      "|    clip_range           | 0.2          |\n",
      "|    entropy_loss         | -0.347       |\n",
      "|    explained_variance   | 0.848        |\n",
      "|    learning_rate        | 1e-06        |\n",
      "|    loss                 | 79           |\n",
      "|    n_updates            | 19600        |\n",
      "|    policy_gradient_loss | -0.00203     |\n",
      "|    value_loss           | 216          |\n",
      "------------------------------------------\n",
      "------------------------------------------\n",
      "| time/                   |              |\n",
      "|    fps                  | 8            |\n",
      "|    iterations           | 9            |\n",
      "|    time_elapsed         | 530          |\n",
      "|    total_timesteps      | 4608         |\n",
      "| train/                  |              |\n",
      "|    approx_kl            | 0.0025579939 |\n",
      "|    clip_fraction        | 0.00508      |\n",
      "|    clip_range           | 0.2          |\n",
      "|    entropy_loss         | -0.327       |\n",
      "|    explained_variance   | 0.822        |\n",
      "|    learning_rate        | 1e-06        |\n",
      "|    loss                 | 81.8         |\n",
      "|    n_updates            | 19610        |\n",
      "|    policy_gradient_loss | -0.000695    |\n",
      "|    value_loss           | 306          |\n",
      "------------------------------------------\n",
      "-------------------------------------------\n",
      "| time/                   |               |\n",
      "|    fps                  | 8             |\n",
      "|    iterations           | 10            |\n",
      "|    time_elapsed         | 602           |\n",
      "|    total_timesteps      | 5120          |\n",
      "| train/                  |               |\n",
      "|    approx_kl            | 0.00017088966 |\n",
      "|    clip_fraction        | 0             |\n",
      "|    clip_range           | 0.2           |\n",
      "|    entropy_loss         | -0.283        |\n",
      "|    explained_variance   | 0.67          |\n",
      "|    learning_rate        | 1e-06         |\n",
      "|    loss                 | 380           |\n",
      "|    n_updates            | 19620         |\n",
      "|    policy_gradient_loss | -0.000103     |\n",
      "|    value_loss           | 469           |\n",
      "-------------------------------------------\n",
      "----------------------------------------\n",
      "| time/                   |            |\n",
      "|    fps                  | 8          |\n",
      "|    iterations           | 11         |\n",
      "|    time_elapsed         | 666        |\n",
      "|    total_timesteps      | 5632       |\n",
      "| train/                  |            |\n",
      "|    approx_kl            | 0.00224699 |\n",
      "|    clip_fraction        | 0.00879    |\n",
      "|    clip_range           | 0.2        |\n",
      "|    entropy_loss         | -0.277     |\n",
      "|    explained_variance   | 0.754      |\n",
      "|    learning_rate        | 1e-06      |\n",
      "|    loss                 | 89.4       |\n",
      "|    n_updates            | 19630      |\n",
      "|    policy_gradient_loss | -0.00104   |\n",
      "|    value_loss           | 207        |\n",
      "----------------------------------------\n",
      "-------------------------------------------\n",
      "| time/                   |               |\n",
      "|    fps                  | 8             |\n",
      "|    iterations           | 12            |\n",
      "|    time_elapsed         | 731           |\n",
      "|    total_timesteps      | 6144          |\n",
      "| train/                  |               |\n",
      "|    approx_kl            | 0.00084055436 |\n",
      "|    clip_fraction        | 0.00176       |\n",
      "|    clip_range           | 0.2           |\n",
      "|    entropy_loss         | -0.281        |\n",
      "|    explained_variance   | 0.712         |\n",
      "|    learning_rate        | 1e-06         |\n",
      "|    loss                 | 308           |\n",
      "|    n_updates            | 19640         |\n",
      "|    policy_gradient_loss | -0.00146      |\n",
      "|    value_loss           | 553           |\n",
      "-------------------------------------------\n"
     ]
    }
   ],
   "source": [
    "# Continue training the model\n",
    "model.learn(total_timesteps=4000000, callback=callback)"
   ]
  },
  {
   "cell_type": "code",
   "execution_count": null,
   "id": "dd54027c",
   "metadata": {},
   "outputs": [],
   "source": [
    "#state = env.reset()\n",
    "\n",
    "#while True:\n",
    " #   action, _ = model.predict(state)\n",
    " #   state, reward, done, info = env.step(action)\n",
    " #   env.render()"
   ]
  }
 ],
 "metadata": {
  "kernelspec": {
   "display_name": "Python 3 (ipykernel)",
   "language": "python",
   "name": "python3"
  },
  "language_info": {
   "codemirror_mode": {
    "name": "ipython",
    "version": 3
   },
   "file_extension": ".py",
   "mimetype": "text/x-python",
   "name": "python",
   "nbconvert_exporter": "python",
   "pygments_lexer": "ipython3",
   "version": "3.10.9"
  }
 },
 "nbformat": 4,
 "nbformat_minor": 5
}
