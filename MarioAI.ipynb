{
 "cells": [
  {
   "cell_type": "markdown",
   "id": "5a6839a9",
   "metadata": {},
   "source": [
    "# 1. Setup Mario"
   ]
  },
  {
   "cell_type": "code",
   "execution_count": 1,
   "id": "bb6c98ef",
   "metadata": {
    "scrolled": true
   },
   "outputs": [
    {
     "name": "stdout",
     "output_type": "stream",
     "text": [
      "Requirement already satisfied: gym_super_mario_bros==7.3.0 in c:\\users\\benj\\anaconda3\\lib\\site-packages (7.3.0)\n",
      "Requirement already satisfied: nes_py==8.2.1 in c:\\users\\benj\\anaconda3\\lib\\site-packages (8.2.1)\n",
      "Requirement already satisfied: numpy>=1.18.5 in c:\\users\\benj\\anaconda3\\lib\\site-packages (from nes_py==8.2.1) (1.23.5)\n",
      "Requirement already satisfied: gym>=0.17.2 in c:\\users\\benj\\anaconda3\\lib\\site-packages (from nes_py==8.2.1) (0.21.0)\n",
      "Requirement already satisfied: tqdm>=4.48.2 in c:\\users\\benj\\anaconda3\\lib\\site-packages (from nes_py==8.2.1) (4.64.1)\n",
      "Requirement already satisfied: pyglet<=1.5.21,>=1.4.0 in c:\\users\\benj\\anaconda3\\lib\\site-packages (from nes_py==8.2.1) (1.5.21)\n",
      "Requirement already satisfied: cloudpickle>=1.2.0 in c:\\users\\benj\\anaconda3\\lib\\site-packages (from gym>=0.17.2->nes_py==8.2.1) (2.0.0)\n",
      "Requirement already satisfied: colorama in c:\\users\\benj\\anaconda3\\lib\\site-packages (from tqdm>=4.48.2->nes_py==8.2.1) (0.4.6)\n"
     ]
    }
   ],
   "source": [
    "!pip install gym_super_mario_bros==7.3.0 nes_py==8.2.1"
   ]
  },
  {
   "cell_type": "code",
   "execution_count": 2,
   "id": "6b61af67",
   "metadata": {},
   "outputs": [],
   "source": [
    "# Game\n",
    "import gym_super_mario_bros\n",
    "# Joypad\n",
    "from nes_py.wrappers import JoypadSpace\n",
    "# Controls\n",
    "from gym_super_mario_bros.actions import SIMPLE_MOVEMENT"
   ]
  },
  {
   "cell_type": "code",
   "execution_count": 3,
   "id": "ff0bf1df",
   "metadata": {},
   "outputs": [
    {
     "data": {
      "text/plain": [
       "[['NOOP'],\n",
       " ['right'],\n",
       " ['right', 'A'],\n",
       " ['right', 'B'],\n",
       " ['right', 'A', 'B'],\n",
       " ['A'],\n",
       " ['left']]"
      ]
     },
     "execution_count": 3,
     "metadata": {},
     "output_type": "execute_result"
    }
   ],
   "source": [
    "SIMPLE_MOVEMENT"
   ]
  },
  {
   "cell_type": "code",
   "execution_count": 4,
   "id": "6898cfd4",
   "metadata": {},
   "outputs": [],
   "source": [
    "# Setup game\n",
    "env = gym_super_mario_bros.make('SuperMarioBros-v0')\n",
    "# Simplify movement variations (action_space)\n",
    "env = JoypadSpace(env, SIMPLE_MOVEMENT)"
   ]
  },
  {
   "cell_type": "code",
   "execution_count": 5,
   "id": "ae91cee7",
   "metadata": {},
   "outputs": [
    {
     "name": "stderr",
     "output_type": "stream",
     "text": [
      "C:\\Users\\benj\\anaconda3\\lib\\site-packages\\pyglet\\image\\codecs\\wic.py:289: UserWarning: [WinError -2147417850] Cannot change thread mode after it is set\n",
      "  warnings.warn(str(err))\n"
     ]
    }
   ],
   "source": [
    "# Flag\n",
    "done = True\n",
    "\n",
    "# Loop through each frame\n",
    "for step in range(100):\n",
    "    if done:\n",
    "        # Start the game\n",
    "        env.reset()\n",
    "    # Do random actions\n",
    "    state, reward, done, info = env.step(env.action_space.sample())\n",
    "    # Show the game on the screen\n",
    "    env.render()\n",
    "env.close()"
   ]
  },
  {
   "cell_type": "markdown",
   "id": "c596198f",
   "metadata": {},
   "source": [
    "# 2. Preprocess Environment"
   ]
  },
  {
   "cell_type": "code",
   "execution_count": 25,
   "id": "39b15e91",
   "metadata": {},
   "outputs": [
    {
     "name": "stdout",
     "output_type": "stream",
     "text": [
      "Looking in links: https://download.pytorch.org/whl/torch_stable.html\n",
      "Requirement already satisfied: torch==2.0.1 in c:\\users\\benj\\anaconda3\\lib\\site-packages (2.0.1)\n",
      "Requirement already satisfied: torchvision==0.15.2 in c:\\users\\benj\\anaconda3\\lib\\site-packages (0.15.2)\n",
      "Requirement already satisfied: torchaudio==2.0.2 in c:\\users\\benj\\anaconda3\\lib\\site-packages (2.0.2)\n",
      "Requirement already satisfied: sympy in c:\\users\\benj\\anaconda3\\lib\\site-packages (from torch==2.0.1) (1.11.1)\n",
      "Requirement already satisfied: typing-extensions in c:\\users\\benj\\anaconda3\\lib\\site-packages (from torch==2.0.1) (4.4.0)\n",
      "Requirement already satisfied: filelock in c:\\users\\benj\\anaconda3\\lib\\site-packages (from torch==2.0.1) (3.9.0)\n",
      "Requirement already satisfied: networkx in c:\\users\\benj\\anaconda3\\lib\\site-packages (from torch==2.0.1) (2.8.4)\n",
      "Requirement already satisfied: jinja2 in c:\\users\\benj\\anaconda3\\lib\\site-packages (from torch==2.0.1) (3.1.2)\n",
      "Requirement already satisfied: numpy in c:\\users\\benj\\anaconda3\\lib\\site-packages (from torchvision==0.15.2) (1.23.5)\n",
      "Requirement already satisfied: pillow!=8.3.*,>=5.3.0 in c:\\users\\benj\\anaconda3\\lib\\site-packages (from torchvision==0.15.2) (9.4.0)\n",
      "Requirement already satisfied: requests in c:\\users\\benj\\anaconda3\\lib\\site-packages (from torchvision==0.15.2) (2.28.1)\n",
      "Requirement already satisfied: MarkupSafe>=2.0 in c:\\users\\benj\\anaconda3\\lib\\site-packages (from jinja2->torch==2.0.1) (2.1.1)\n",
      "Requirement already satisfied: idna<4,>=2.5 in c:\\users\\benj\\anaconda3\\lib\\site-packages (from requests->torchvision==0.15.2) (3.4)\n",
      "Requirement already satisfied: certifi>=2017.4.17 in c:\\users\\benj\\anaconda3\\lib\\site-packages (from requests->torchvision==0.15.2) (2023.5.7)\n",
      "Requirement already satisfied: charset-normalizer<3,>=2 in c:\\users\\benj\\anaconda3\\lib\\site-packages (from requests->torchvision==0.15.2) (2.0.4)\n",
      "Requirement already satisfied: urllib3<1.27,>=1.21.1 in c:\\users\\benj\\anaconda3\\lib\\site-packages (from requests->torchvision==0.15.2) (1.26.14)\n",
      "Requirement already satisfied: mpmath>=0.19 in c:\\users\\benj\\anaconda3\\lib\\site-packages (from sympy->torch==2.0.1) (1.2.1)\n",
      "Requirement already satisfied: stable-baselines3[extra]==1.8.0 in c:\\users\\benj\\anaconda3\\lib\\site-packages (1.8.0)\n",
      "Requirement already satisfied: pandas in c:\\users\\benj\\anaconda3\\lib\\site-packages (from stable-baselines3[extra]==1.8.0) (1.5.3)\n",
      "Requirement already satisfied: cloudpickle in c:\\users\\benj\\anaconda3\\lib\\site-packages (from stable-baselines3[extra]==1.8.0) (2.0.0)\n",
      "Requirement already satisfied: matplotlib in c:\\users\\benj\\anaconda3\\lib\\site-packages (from stable-baselines3[extra]==1.8.0) (3.7.0)\n",
      "Requirement already satisfied: numpy in c:\\users\\benj\\anaconda3\\lib\\site-packages (from stable-baselines3[extra]==1.8.0) (1.23.5)\n",
      "Requirement already satisfied: importlib-metadata~=4.13 in c:\\users\\benj\\anaconda3\\lib\\site-packages (from stable-baselines3[extra]==1.8.0) (4.13.0)\n",
      "Requirement already satisfied: gym==0.21 in c:\\users\\benj\\anaconda3\\lib\\site-packages (from stable-baselines3[extra]==1.8.0) (0.21.0)\n",
      "Requirement already satisfied: torch>=1.11 in c:\\users\\benj\\anaconda3\\lib\\site-packages (from stable-baselines3[extra]==1.8.0) (2.0.1)\n",
      "Requirement already satisfied: tqdm in c:\\users\\benj\\anaconda3\\lib\\site-packages (from stable-baselines3[extra]==1.8.0) (4.64.1)\n",
      "Requirement already satisfied: opencv-python in c:\\users\\benj\\anaconda3\\lib\\site-packages (from stable-baselines3[extra]==1.8.0) (4.7.0.72)\n",
      "Requirement already satisfied: pillow in c:\\users\\benj\\anaconda3\\lib\\site-packages (from stable-baselines3[extra]==1.8.0) (9.4.0)\n",
      "Requirement already satisfied: psutil in c:\\users\\benj\\anaconda3\\lib\\site-packages (from stable-baselines3[extra]==1.8.0) (5.9.0)\n",
      "Requirement already satisfied: rich in c:\\users\\benj\\anaconda3\\lib\\site-packages (from stable-baselines3[extra]==1.8.0) (13.4.2)\n",
      "Requirement already satisfied: ale-py==0.7.4 in c:\\users\\benj\\anaconda3\\lib\\site-packages (from stable-baselines3[extra]==1.8.0) (0.7.4)\n",
      "Requirement already satisfied: autorom[accept-rom-license]~=0.6.0 in c:\\users\\benj\\anaconda3\\lib\\site-packages (from stable-baselines3[extra]==1.8.0) (0.6.1)\n",
      "Requirement already satisfied: tensorboard>=2.9.1 in c:\\users\\benj\\anaconda3\\lib\\site-packages (from stable-baselines3[extra]==1.8.0) (2.12.3)\n",
      "Requirement already satisfied: importlib-resources in c:\\users\\benj\\anaconda3\\lib\\site-packages (from ale-py==0.7.4->stable-baselines3[extra]==1.8.0) (5.12.0)\n",
      "Requirement already satisfied: requests in c:\\users\\benj\\anaconda3\\lib\\site-packages (from autorom[accept-rom-license]~=0.6.0->stable-baselines3[extra]==1.8.0) (2.28.1)\n",
      "Requirement already satisfied: click in c:\\users\\benj\\anaconda3\\lib\\site-packages (from autorom[accept-rom-license]~=0.6.0->stable-baselines3[extra]==1.8.0) (8.0.4)\n",
      "Requirement already satisfied: AutoROM.accept-rom-license in c:\\users\\benj\\anaconda3\\lib\\site-packages (from autorom[accept-rom-license]~=0.6.0->stable-baselines3[extra]==1.8.0) (0.6.1)\n",
      "Requirement already satisfied: zipp>=0.5 in c:\\users\\benj\\anaconda3\\lib\\site-packages (from importlib-metadata~=4.13->stable-baselines3[extra]==1.8.0) (3.11.0)\n",
      "Requirement already satisfied: google-auth<3,>=1.6.3 in c:\\users\\benj\\anaconda3\\lib\\site-packages (from tensorboard>=2.9.1->stable-baselines3[extra]==1.8.0) (2.21.0)\n",
      "Requirement already satisfied: markdown>=2.6.8 in c:\\users\\benj\\anaconda3\\lib\\site-packages (from tensorboard>=2.9.1->stable-baselines3[extra]==1.8.0) (3.4.1)\n",
      "Requirement already satisfied: tensorboard-data-server<0.8.0,>=0.7.0 in c:\\users\\benj\\anaconda3\\lib\\site-packages (from tensorboard>=2.9.1->stable-baselines3[extra]==1.8.0) (0.7.1)\n",
      "Requirement already satisfied: google-auth-oauthlib<1.1,>=0.5 in c:\\users\\benj\\anaconda3\\lib\\site-packages (from tensorboard>=2.9.1->stable-baselines3[extra]==1.8.0) (1.0.0)\n",
      "Requirement already satisfied: wheel>=0.26 in c:\\users\\benj\\anaconda3\\lib\\site-packages (from tensorboard>=2.9.1->stable-baselines3[extra]==1.8.0) (0.38.4)\n",
      "Requirement already satisfied: werkzeug>=1.0.1 in c:\\users\\benj\\anaconda3\\lib\\site-packages (from tensorboard>=2.9.1->stable-baselines3[extra]==1.8.0) (2.2.2)\n",
      "Requirement already satisfied: setuptools>=41.0.0 in c:\\users\\benj\\anaconda3\\lib\\site-packages (from tensorboard>=2.9.1->stable-baselines3[extra]==1.8.0) (65.6.3)\n",
      "Requirement already satisfied: protobuf>=3.19.6 in c:\\users\\benj\\anaconda3\\lib\\site-packages (from tensorboard>=2.9.1->stable-baselines3[extra]==1.8.0) (4.23.3)\n",
      "Requirement already satisfied: grpcio>=1.48.2 in c:\\users\\benj\\anaconda3\\lib\\site-packages (from tensorboard>=2.9.1->stable-baselines3[extra]==1.8.0) (1.56.0)\n",
      "Requirement already satisfied: absl-py>=0.4 in c:\\users\\benj\\anaconda3\\lib\\site-packages (from tensorboard>=2.9.1->stable-baselines3[extra]==1.8.0) (1.4.0)\n",
      "Requirement already satisfied: jinja2 in c:\\users\\benj\\anaconda3\\lib\\site-packages (from torch>=1.11->stable-baselines3[extra]==1.8.0) (3.1.2)\n",
      "Requirement already satisfied: typing-extensions in c:\\users\\benj\\anaconda3\\lib\\site-packages (from torch>=1.11->stable-baselines3[extra]==1.8.0) (4.4.0)\n",
      "Requirement already satisfied: sympy in c:\\users\\benj\\anaconda3\\lib\\site-packages (from torch>=1.11->stable-baselines3[extra]==1.8.0) (1.11.1)\n",
      "Requirement already satisfied: networkx in c:\\users\\benj\\anaconda3\\lib\\site-packages (from torch>=1.11->stable-baselines3[extra]==1.8.0) (2.8.4)\n",
      "Requirement already satisfied: filelock in c:\\users\\benj\\anaconda3\\lib\\site-packages (from torch>=1.11->stable-baselines3[extra]==1.8.0) (3.9.0)\n",
      "Requirement already satisfied: contourpy>=1.0.1 in c:\\users\\benj\\anaconda3\\lib\\site-packages (from matplotlib->stable-baselines3[extra]==1.8.0) (1.0.5)\n",
      "Requirement already satisfied: cycler>=0.10 in c:\\users\\benj\\anaconda3\\lib\\site-packages (from matplotlib->stable-baselines3[extra]==1.8.0) (0.11.0)\n",
      "Requirement already satisfied: packaging>=20.0 in c:\\users\\benj\\anaconda3\\lib\\site-packages (from matplotlib->stable-baselines3[extra]==1.8.0) (22.0)\n",
      "Requirement already satisfied: python-dateutil>=2.7 in c:\\users\\benj\\anaconda3\\lib\\site-packages (from matplotlib->stable-baselines3[extra]==1.8.0) (2.8.2)\n",
      "Requirement already satisfied: fonttools>=4.22.0 in c:\\users\\benj\\anaconda3\\lib\\site-packages (from matplotlib->stable-baselines3[extra]==1.8.0) (4.25.0)\n",
      "Requirement already satisfied: kiwisolver>=1.0.1 in c:\\users\\benj\\anaconda3\\lib\\site-packages (from matplotlib->stable-baselines3[extra]==1.8.0) (1.4.4)\n",
      "Requirement already satisfied: pyparsing>=2.3.1 in c:\\users\\benj\\anaconda3\\lib\\site-packages (from matplotlib->stable-baselines3[extra]==1.8.0) (3.0.9)\n",
      "Requirement already satisfied: pytz>=2020.1 in c:\\users\\benj\\anaconda3\\lib\\site-packages (from pandas->stable-baselines3[extra]==1.8.0) (2022.7)\n",
      "Requirement already satisfied: pygments<3.0.0,>=2.13.0 in c:\\users\\benj\\anaconda3\\lib\\site-packages (from rich->stable-baselines3[extra]==1.8.0) (2.15.1)\n",
      "Requirement already satisfied: markdown-it-py>=2.2.0 in c:\\users\\benj\\anaconda3\\lib\\site-packages (from rich->stable-baselines3[extra]==1.8.0) (3.0.0)\n",
      "Requirement already satisfied: colorama in c:\\users\\benj\\anaconda3\\lib\\site-packages (from tqdm->stable-baselines3[extra]==1.8.0) (0.4.6)\n",
      "Requirement already satisfied: six>=1.9.0 in c:\\users\\benj\\anaconda3\\lib\\site-packages (from google-auth<3,>=1.6.3->tensorboard>=2.9.1->stable-baselines3[extra]==1.8.0) (1.16.0)\n",
      "Requirement already satisfied: rsa<5,>=3.1.4 in c:\\users\\benj\\anaconda3\\lib\\site-packages (from google-auth<3,>=1.6.3->tensorboard>=2.9.1->stable-baselines3[extra]==1.8.0) (4.9)\n",
      "Requirement already satisfied: pyasn1-modules>=0.2.1 in c:\\users\\benj\\anaconda3\\lib\\site-packages (from google-auth<3,>=1.6.3->tensorboard>=2.9.1->stable-baselines3[extra]==1.8.0) (0.2.8)\n",
      "Requirement already satisfied: cachetools<6.0,>=2.0.0 in c:\\users\\benj\\anaconda3\\lib\\site-packages (from google-auth<3,>=1.6.3->tensorboard>=2.9.1->stable-baselines3[extra]==1.8.0) (5.3.1)\n",
      "Requirement already satisfied: urllib3<2.0 in c:\\users\\benj\\anaconda3\\lib\\site-packages (from google-auth<3,>=1.6.3->tensorboard>=2.9.1->stable-baselines3[extra]==1.8.0) (1.26.14)\n",
      "Requirement already satisfied: requests-oauthlib>=0.7.0 in c:\\users\\benj\\anaconda3\\lib\\site-packages (from google-auth-oauthlib<1.1,>=0.5->tensorboard>=2.9.1->stable-baselines3[extra]==1.8.0) (1.3.1)\n",
      "Requirement already satisfied: mdurl~=0.1 in c:\\users\\benj\\anaconda3\\lib\\site-packages (from markdown-it-py>=2.2.0->rich->stable-baselines3[extra]==1.8.0) (0.1.2)\n",
      "Requirement already satisfied: certifi>=2017.4.17 in c:\\users\\benj\\anaconda3\\lib\\site-packages (from requests->autorom[accept-rom-license]~=0.6.0->stable-baselines3[extra]==1.8.0) (2023.5.7)\n",
      "Requirement already satisfied: idna<4,>=2.5 in c:\\users\\benj\\anaconda3\\lib\\site-packages (from requests->autorom[accept-rom-license]~=0.6.0->stable-baselines3[extra]==1.8.0) (3.4)\n",
      "Requirement already satisfied: charset-normalizer<3,>=2 in c:\\users\\benj\\anaconda3\\lib\\site-packages (from requests->autorom[accept-rom-license]~=0.6.0->stable-baselines3[extra]==1.8.0) (2.0.4)\n",
      "Requirement already satisfied: MarkupSafe>=2.1.1 in c:\\users\\benj\\anaconda3\\lib\\site-packages (from werkzeug>=1.0.1->tensorboard>=2.9.1->stable-baselines3[extra]==1.8.0) (2.1.1)\n",
      "Requirement already satisfied: mpmath>=0.19 in c:\\users\\benj\\anaconda3\\lib\\site-packages (from sympy->torch>=1.11->stable-baselines3[extra]==1.8.0) (1.2.1)\n",
      "Requirement already satisfied: pyasn1<0.5.0,>=0.4.6 in c:\\users\\benj\\anaconda3\\lib\\site-packages (from pyasn1-modules>=0.2.1->google-auth<3,>=1.6.3->tensorboard>=2.9.1->stable-baselines3[extra]==1.8.0) (0.4.8)\n",
      "Requirement already satisfied: oauthlib>=3.0.0 in c:\\users\\benj\\anaconda3\\lib\\site-packages (from requests-oauthlib>=0.7.0->google-auth-oauthlib<1.1,>=0.5->tensorboard>=2.9.1->stable-baselines3[extra]==1.8.0) (3.2.2)\n"
     ]
    }
   ],
   "source": [
    "!pip install torch==2.0.1 torchvision==0.15.2 torchaudio==2.0.2 -f https://download.pytorch.org/whl/torch_stable.html\n",
    "# PPO for RL\n",
    "!pip install stable-baselines3[extra]==1.8.0"
   ]
  },
  {
   "cell_type": "code",
   "execution_count": 14,
   "id": "0ac05264",
   "metadata": {},
   "outputs": [],
   "source": [
    "# Frame Stacker Wrapper and Grayscaling Wrapper\n",
    "# Framestack: Capture last couple of frames while Mario is playing\n",
    "# GrayscaleObservation: Shave our data since it does not deal with no coloring, making our model faster\n",
    "from gym.wrappers import GrayScaleObservation\n",
    "# Vectorization Wrappers\n",
    "from stable_baselines3.common.vec_env import VecFrameStack, DummyVecEnv\n",
    "# Plot the impact of framestacking\n",
    "from matplotlib import pyplot as plt"
   ]
  },
  {
   "cell_type": "code",
   "execution_count": 15,
   "id": "32925ce2",
   "metadata": {},
   "outputs": [],
   "source": [
    "# Create the base env \n",
    "env = gym_super_mario_bros.make('SuperMarioBros-v0')\n",
    "# Simplify movement controls\n",
    "env = JoypadSpace(env, SIMPLE_MOVEMENT)\n",
    "# Grayscale the env\n",
    "env = GrayScaleObservation(env, keep_dim=True)\n",
    "# Wrap inside the dummy env\n",
    "env = DummyVecEnv([lambda: env])\n",
    "# Stack the frames\n",
    "# Find how many frames to take in as you desire that works best\n",
    "env = VecFrameStack(env, 4, channels_order='last')"
   ]
  },
  {
   "cell_type": "code",
   "execution_count": null,
   "id": "2f387b2c",
   "metadata": {},
   "outputs": [],
   "source": [
    "# state = env.reset()\n",
    "# plt.imshow(state)"
   ]
  },
  {
   "cell_type": "code",
   "execution_count": 16,
   "id": "4f7e2119",
   "metadata": {},
   "outputs": [
    {
     "data": {
      "text/plain": [
       "array([[[[  0,   0,   0, 140],\n",
       "         [  0,   0,   0, 140],\n",
       "         [  0,   0,   0, 140],\n",
       "         ...,\n",
       "         [  0,   0,   0, 140],\n",
       "         [  0,   0,   0, 140],\n",
       "         [  0,   0,   0, 140]],\n",
       "\n",
       "        [[  0,   0,   0, 140],\n",
       "         [  0,   0,   0, 140],\n",
       "         [  0,   0,   0, 140],\n",
       "         ...,\n",
       "         [  0,   0,   0, 140],\n",
       "         [  0,   0,   0, 140],\n",
       "         [  0,   0,   0, 140]],\n",
       "\n",
       "        [[  0,   0,   0, 140],\n",
       "         [  0,   0,   0, 140],\n",
       "         [  0,   0,   0, 140],\n",
       "         ...,\n",
       "         [  0,   0,   0, 140],\n",
       "         [  0,   0,   0, 140],\n",
       "         [  0,   0,   0, 140]],\n",
       "\n",
       "        ...,\n",
       "\n",
       "        [[  0,   0,   0, 214],\n",
       "         [  0,   0,   0, 124],\n",
       "         [  0,   0,   0, 124],\n",
       "         ...,\n",
       "         [  0,   0,   0, 124],\n",
       "         [  0,   0,   0, 124],\n",
       "         [  0,   0,   0,   0]],\n",
       "\n",
       "        [[  0,   0,   0, 214],\n",
       "         [  0,   0,   0, 124],\n",
       "         [  0,   0,   0, 124],\n",
       "         ...,\n",
       "         [  0,   0,   0, 124],\n",
       "         [  0,   0,   0,   0],\n",
       "         [  0,   0,   0,   0]],\n",
       "\n",
       "        [[  0,   0,   0, 124],\n",
       "         [  0,   0,   0,   0],\n",
       "         [  0,   0,   0,   0],\n",
       "         ...,\n",
       "         [  0,   0,   0,   0],\n",
       "         [  0,   0,   0,   0],\n",
       "         [  0,   0,   0, 124]]]], dtype=uint8)"
      ]
     },
     "execution_count": 16,
     "metadata": {},
     "output_type": "execute_result"
    }
   ],
   "source": [
    "env.reset()"
   ]
  },
  {
   "cell_type": "code",
   "execution_count": null,
   "id": "d89c415a",
   "metadata": {},
   "outputs": [],
   "source": [
    "state, reward, done, info = env.step([5])"
   ]
  },
  {
   "cell_type": "code",
   "execution_count": null,
   "id": "87a5cca3",
   "metadata": {},
   "outputs": [],
   "source": [
    "#plt.figure(figsize=(20,16))\n",
    "#for idx in range(state.shape[3]):\n",
    " #   plt.subplot(1,4,idx+1)\n",
    " #   plt.imshow(state[0][:,:,idx])\n",
    "#plt.show()"
   ]
  },
  {
   "cell_type": "markdown",
   "id": "984e2793",
   "metadata": {},
   "source": [
    "# 3. Train the RL Model"
   ]
  },
  {
   "cell_type": "code",
   "execution_count": 17,
   "id": "4a16cb18",
   "metadata": {},
   "outputs": [],
   "source": [
    "# AREA: Agent, Reward, Environment, Action\n",
    "# PPO: Proximal Policy Optimization\n",
    "# OS for file path management\n",
    "import os\n",
    "# PPO classifier\n",
    "from stable_baselines3 import PPO\n",
    "# Base Callback for saving models\n",
    "from stable_baselines3.common.callbacks import BaseCallback"
   ]
  },
  {
   "cell_type": "code",
   "execution_count": 18,
   "id": "b38e8140",
   "metadata": {},
   "outputs": [],
   "source": [
    "# Save our model every x number of steps\n",
    "class TrainAndLoggingCallback(BaseCallback):\n",
    "    \n",
    "    def __init__(self, check_freq, save_path, verbose=1):\n",
    "        super(TrainAndLoggingCallback, self).__init__(verbose)\n",
    "        self.check_freq = check_freq\n",
    "        self.save_path = save_path\n",
    "        \n",
    "    def _init_callback(self):\n",
    "        if self.save_path is not None:\n",
    "            os.makedirs(self.save_path, exist_ok=True)\n",
    "            \n",
    "    def _on_step(self):\n",
    "        if self.n_calls % self.check_freq == 0:\n",
    "            model_path = os.path.join(self.save_path, 'best_model_{}'.format(self.n_calls))\n",
    "            self.model.save(model_path)\n",
    "            \n",
    "        return True"
   ]
  },
  {
   "cell_type": "code",
   "execution_count": 19,
   "id": "62ecbf8a",
   "metadata": {},
   "outputs": [],
   "source": [
    "CHECKPOINT_DIR = './train/'\n",
    "LOG_DIR = './logs/'"
   ]
  },
  {
   "cell_type": "code",
   "execution_count": 20,
   "id": "6900d2bb",
   "metadata": {},
   "outputs": [],
   "source": [
    "callback = TrainAndLoggingCallback(check_freq=500000, save_path=CHECKPOINT_DIR)"
   ]
  },
  {
   "cell_type": "code",
   "execution_count": null,
   "id": "c41b71bd",
   "metadata": {},
   "outputs": [],
   "source": [
    "# RL requires a policy network (such as the CNN that is the brain of the AI)\n",
    "# CnnPolicy is fast at processing images, which fits our use case\n",
    "model = PPO('CnnPolicy', env, verbose=1, tensorboard_log=LOG_DIR, learning_rate=0.000001, n_steps=512)"
   ]
  },
  {
   "cell_type": "code",
   "execution_count": null,
   "id": "b6ad3be6",
   "metadata": {},
   "outputs": [],
   "source": [
    "# Train the model\n",
    "# Every single game gets a million frames\n",
    "#model.learn(total_timesteps=4000000, callback=callback)"
   ]
  },
  {
   "cell_type": "code",
   "execution_count": null,
   "id": "ea2837bc",
   "metadata": {},
   "outputs": [],
   "source": [
    "# No callback: model.save('name_of_file')\n",
    "# To view the logs on tensorboard\n",
    "# Activate the env on this dir and go into log dir (go into most recent ppo model)\n",
    "#tensorboard --logdir=."
   ]
  },
  {
   "cell_type": "markdown",
   "id": "43d86367",
   "metadata": {},
   "source": [
    "# 4. Test the Model"
   ]
  },
  {
   "cell_type": "code",
   "execution_count": 21,
   "id": "7479133b",
   "metadata": {},
   "outputs": [
    {
     "name": "stdout",
     "output_type": "stream",
     "text": [
      "Wrapping the env in a VecTransposeImage.\n"
     ]
    }
   ],
   "source": [
    "# Load the model\n",
    "model = PPO.load('./train/best_model_4000000', env=env)"
   ]
  },
  {
   "cell_type": "code",
   "execution_count": null,
   "id": "1f58dc66",
   "metadata": {},
   "outputs": [
    {
     "name": "stdout",
     "output_type": "stream",
     "text": [
      "Logging to ./logs/PPO_15\n"
     ]
    },
    {
     "name": "stderr",
     "output_type": "stream",
     "text": [
      "C:\\Users\\benj\\anaconda3\\lib\\site-packages\\gym_super_mario_bros\\smb_env.py:148: RuntimeWarning: overflow encountered in ubyte_scalars\n",
      "  return (self.ram[0x86] - self.ram[0x071c]) % 256\n"
     ]
    },
    {
     "name": "stdout",
     "output_type": "stream",
     "text": [
      "----------------------------\n",
      "| time/              |     |\n",
      "|    fps             | 90  |\n",
      "|    iterations      | 1   |\n",
      "|    time_elapsed    | 5   |\n",
      "|    total_timesteps | 512 |\n",
      "----------------------------\n"
     ]
    }
   ],
   "source": [
    "# Continue training the model\n",
    "model.learn(total_timesteps=10000000, callback=callback)"
   ]
  },
  {
   "cell_type": "code",
   "execution_count": null,
   "id": "dd54027c",
   "metadata": {},
   "outputs": [],
   "source": [
    "state = env.reset()\n",
    "\n",
    "while True:\n",
    "    action, _ = model.predict(state)\n",
    "    state, reward, done, info = env.step(action)\n",
    "    env.render()"
   ]
  },
  {
   "cell_type": "code",
   "execution_count": null,
   "id": "b2d0899b",
   "metadata": {},
   "outputs": [],
   "source": [
    "env.close()"
   ]
  }
 ],
 "metadata": {
  "kernelspec": {
   "display_name": "Python 3 (ipykernel)",
   "language": "python",
   "name": "python3"
  },
  "language_info": {
   "codemirror_mode": {
    "name": "ipython",
    "version": 3
   },
   "file_extension": ".py",
   "mimetype": "text/x-python",
   "name": "python",
   "nbconvert_exporter": "python",
   "pygments_lexer": "ipython3",
   "version": "3.10.9"
  }
 },
 "nbformat": 4,
 "nbformat_minor": 5
}
